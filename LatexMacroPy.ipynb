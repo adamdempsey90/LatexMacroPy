{
 "cells": [
  {
   "cell_type": "code",
   "execution_count": 8,
   "metadata": {
    "collapsed": true
   },
   "outputs": [],
   "source": [
    "\n",
    "macro_names = 'tests/main.tex'\n",
    "tex_file = 'tests/Theory/new_theory.tex'"
   ]
  },
  {
   "cell_type": "code",
   "execution_count": 9,
   "metadata": {
    "collapsed": true
   },
   "outputs": [],
   "source": [
    "process_file(tex_file,macs)"
   ]
  },
  {
   "cell_type": "code",
   "execution_count": 3,
   "metadata": {
    "collapsed": false
   },
   "outputs": [],
   "source": [
    "macro_list = []\n",
    "with open(macro_names,'r') as f:\n",
    "    for line in f.readlines():\n",
    "        if 'newcommand' in line:\n",
    "            macro_list.append(line)\n",
    "            #macro_list.append(Macro(line))"
   ]
  },
  {
   "cell_type": "code",
   "execution_count": 27,
   "metadata": {
    "collapsed": false
   },
   "outputs": [],
   "source": [
    "with open(tex_file,'r') as f:\n",
    "    lines = f.readlines()"
   ]
  },
  {
   "cell_type": "code",
   "execution_count": 20,
   "metadata": {
    "collapsed": false
   },
   "outputs": [],
   "source": [
    "class Macro():\n",
    "    def __init__(self,input_str):\n",
    "        self.original = input_str.strip()\n",
    "        temp = input_str.strip().split('newcommand')\n",
    "        self.re = False\n",
    "        if 're' in temp[0]:\n",
    "            self.re = True            \n",
    "        self.name, temp = self.parse_brackets(temp[1].strip())\n",
    "        self.numargs, temp = self.grab_num_args(temp)\n",
    "        self.definition = self.grab_result(temp)\n",
    "        \n",
    "    def parse_brackets(self, str_in):\n",
    "        res = '{'.join(str_in.split('{')[1:]).split('}')\n",
    "        name = res[0]\n",
    "        res = '}'.join(res[1:])\n",
    "        return name,res\n",
    "    def grab_num_args(self, str_in):\n",
    "        if str_in[0] != '[':\n",
    "            return 0,str_in\n",
    "        else: \n",
    "            return int(str_in[1]),']'.join(str_in.split(']')[1:])\n",
    "\n",
    "    def grab_result(self, str_in,num_args=0):\n",
    "        res = '}'.join('{'.join(str_in.split('{')[1:]).split('}')[:-1])\n",
    "        return res\n",
    "    def replace(self, args):\n",
    "        if self.numargs == 0:\n",
    "            return self.definition\n",
    "        mac = self.definition\n",
    "        for i in range(self.numargs):\n",
    "            mac = mac.replace('#'+str(i+1),args[i])\n",
    "        return mac\n",
    "    def parse_arguments(self, input_str):\n",
    "        temp = input_str.strip().split(self.name)\n",
    "        left_str = temp[0]\n",
    "        right_str = self.name.join(temp[1:])\n",
    "        args = []\n",
    "        if self.numargs > 0:\n",
    "            for i in range(self.numargs):\n",
    "                val, right_str = self.parse_brackets(right_str)\n",
    "                args.append(val)\n",
    "        return args, left_str, right_str \n",
    "    def __repr__(self):\n",
    "        return self.original + '\\n' + self.name + '\\t\\t' + str(self.numargs) + '\\t\\t'+ self.definition\n",
    "    \n",
    "    \n",
    "        \n",
    "\n",
    "def replace_line(input_str, macro_list):\n",
    "    temp = input_str\n",
    "    while sum([temp.count(mac.name) for mac in macro_list]) > 0:\n",
    "        for mac in macro_list:\n",
    "            while temp.count(mac.name) > 0:\n",
    "                args, left_str, right_str = mac.parse_arguments(temp)\n",
    "                temp = left_str + ' ' + mac.replace(args) + ' ' + right_str + '\\n'\n",
    "\n",
    "    return temp\n",
    "\n",
    "def process_file(filename,macro_list):\n",
    "    with open(filename,'r') as f:\n",
    "        with open(filename+'.temp','w') as g:\n",
    "            for line in f.readlines():\n",
    "                newline = replace_line(line, macro_list)\n",
    "                g.write(newline)\n"
   ]
  },
  {
   "cell_type": "code",
   "execution_count": 16,
   "metadata": {
    "collapsed": false
   },
   "outputs": [
    {
     "ename": "AttributeError",
     "evalue": "'Macro' object has no attribute 'orginal'",
     "output_type": "error",
     "traceback": [
      "\u001b[0;31m---------------------------------------------------------------------------\u001b[0m",
      "\u001b[0;31mAttributeError\u001b[0m                            Traceback (most recent call last)",
      "\u001b[0;32m<ipython-input-16-bfe37c7a3d70>\u001b[0m in \u001b[0;36m<module>\u001b[0;34m()\u001b[0m\n\u001b[1;32m      1\u001b[0m \u001b[0;32mfor\u001b[0m \u001b[0mm\u001b[0m \u001b[0;32min\u001b[0m \u001b[0mmacs\u001b[0m\u001b[0;34m:\u001b[0m\u001b[0;34m\u001b[0m\u001b[0m\n\u001b[0;32m----> 2\u001b[0;31m     \u001b[0mprint\u001b[0m\u001b[0;34m(\u001b[0m\u001b[0mm\u001b[0m\u001b[0;34m)\u001b[0m\u001b[0;34m\u001b[0m\u001b[0m\n\u001b[0m",
      "\u001b[0;32m<ipython-input-14-a78b49cdb05e>\u001b[0m in \u001b[0;36m__repr__\u001b[0;34m(self)\u001b[0m\n\u001b[1;32m     42\u001b[0m         \u001b[0;32mreturn\u001b[0m \u001b[0margs\u001b[0m\u001b[0;34m,\u001b[0m \u001b[0mleft_str\u001b[0m\u001b[0;34m,\u001b[0m \u001b[0mright_str\u001b[0m\u001b[0;34m\u001b[0m\u001b[0m\n\u001b[1;32m     43\u001b[0m     \u001b[0;32mdef\u001b[0m \u001b[0m__repr__\u001b[0m\u001b[0;34m(\u001b[0m\u001b[0mself\u001b[0m\u001b[0;34m)\u001b[0m\u001b[0;34m:\u001b[0m\u001b[0;34m\u001b[0m\u001b[0m\n\u001b[0;32m---> 44\u001b[0;31m         \u001b[0;32mreturn\u001b[0m \u001b[0mself\u001b[0m\u001b[0;34m.\u001b[0m\u001b[0morginal\u001b[0m \u001b[0;34m+\u001b[0m \u001b[0;34m'\\n'\u001b[0m \u001b[0;34m+\u001b[0m \u001b[0mself\u001b[0m\u001b[0;34m.\u001b[0m\u001b[0mname\u001b[0m \u001b[0;34m+\u001b[0m \u001b[0;34m'\\t\\t'\u001b[0m \u001b[0;34m+\u001b[0m \u001b[0mstr\u001b[0m\u001b[0;34m(\u001b[0m\u001b[0mself\u001b[0m\u001b[0;34m.\u001b[0m\u001b[0mnumargs\u001b[0m\u001b[0;34m)\u001b[0m \u001b[0;34m+\u001b[0m \u001b[0;34m'\\t\\t'\u001b[0m\u001b[0;34m+\u001b[0m \u001b[0mself\u001b[0m\u001b[0;34m.\u001b[0m\u001b[0mdefinition\u001b[0m\u001b[0;34m\u001b[0m\u001b[0m\n\u001b[0m\u001b[1;32m     45\u001b[0m \u001b[0;34m\u001b[0m\u001b[0m\n\u001b[1;32m     46\u001b[0m \u001b[0;34m\u001b[0m\u001b[0m\n",
      "\u001b[0;31mAttributeError\u001b[0m: 'Macro' object has no attribute 'orginal'"
     ]
    }
   ],
   "source": []
  },
  {
   "cell_type": "code",
   "execution_count": 21,
   "metadata": {
    "collapsed": false
   },
   "outputs": [
    {
     "name": "stdout",
     "output_type": "stream",
     "text": [
      "\\renewcommand*{\\sectionautorefname}{Section}\n",
      "\\sectionautorefname\t\t0\t\tSection\n",
      "\\newcommand{\\pderiv}[1]{\\frac{\\partial}{\\partial #1}}\n",
      "\\pderiv\t\t1\t\t\\frac{\\partial}{\\partial #1}\n",
      "\\newcommand{\\ppderiv}[2]{\\frac{\\partial #1}{\\partial #2}}\n",
      "\\ppderiv\t\t2\t\t\\frac{\\partial #1}{\\partial #2}\n",
      "\\newcommand{\\deriv}[1]{\\frac{d}{d #1}}\n",
      "\\deriv\t\t1\t\t\\frac{d}{d #1}\n",
      "\\newcommand{\\cderiv}[1]{\\frac{D}{D #1}}\n",
      "\\cderiv\t\t1\t\t\\frac{D}{D #1}\n",
      "\\newcommand{\\del}{\\mathbf{\\nabla}}\n",
      "\\del\t\t0\t\t\\mathbf{\\nabla}\n",
      "\\renewcommand{\\div}{\\del \\cdot}\n",
      "\\div\t\t0\t\t\\del \\cdot\n",
      "\\newcommand{\\avg}[1]{\\left\\langle #1 \\right\\rangle}\n",
      "\\avg\t\t1\t\t\\left\\langle #1 \\right\\rangle\n",
      "\\renewcommand{\\vec}[1]{\\mathbf{#1}}\n",
      "\\vec\t\t1\t\t\\mathbf{#1}\n",
      "\\newcommand{\\delr}[1]{\\frac{1}{r} \\pderiv{r} \\left( r #1 \\right)}\n",
      "\\delr\t\t1\t\t\\frac{1}{r} \\pderiv{r} \\left( r #1 \\right)\n",
      "\\newcommand{\\delp}[1]{\\frac{1}{r} \\pderiv{\\phi} \\left( #1 \\right)}\n",
      "\\delp\t\t1\t\t\\frac{1}{r} \\pderiv{\\phi} \\left( #1 \\right)\n",
      "\\newcommand{\\fargo}{FARGO3D }\n",
      "\\fargo\t\t0\t\tFARGO3D \n"
     ]
    }
   ],
   "source": [
    "macs = [Macro(m) for m in macro_list]\n",
    "names = [m.name for m in macs]\n",
    "for m in macs:\n",
    "    print(m)\n",
    "#print(macro_list)\n",
    "#[print(Macro(m).name) for m in macro_list]\n",
    "\n",
    "#print(mdat.replace(('S1','S2')))"
   ]
  },
  {
   "cell_type": "code",
   "execution_count": 287,
   "metadata": {
    "collapsed": false
   },
   "outputs": [
    {
     "name": "stdout",
     "output_type": "stream",
     "text": [
      "\\sectionautorefname\t0\tSection\n",
      "\\pderiv\t1\t\\frac{\\partial}{\\partial #1}\n",
      "\\ppderiv\t2\t\\frac{\\partial #1}{\\partial #2}\n",
      "\\deriv\t1\t\\frac{d}{d #1}\n",
      "\\cderiv\t1\t\\frac{D}{D #1}\n",
      "\\del\t0\t\\mathbf{\\nabla}\n",
      "\\div\t0\t\\del \\cdot\n",
      "\\avg\t1\t\\left\\langle #1 \\right\\rangle\n",
      "\\vec\t1\t\\mathbf{#1}\n",
      "\\delr\t1\t\\frac{1}{r} \\pderiv{r} \\left( r #1 \\right)\n",
      "\\delp\t1\t\\frac{1}{r} \\pderiv{\\phi} \\left( #1 \\right)\n",
      "\\fargo\t0\tFARGO3D \n"
     ]
    }
   ],
   "source": [
    "for m in macs:\n",
    "    print(m.name+ '\\t' + str(m.numargs) + '\\t' + m.definition)"
   ]
  },
  {
   "cell_type": "code",
   "execution_count": 297,
   "metadata": {
    "collapsed": false
   },
   "outputs": [
    {
     "ename": "AttributeError",
     "evalue": "'Macro' object has no attribute 'parse_arguments'",
     "output_type": "error",
     "traceback": [
      "\u001b[0;31m---------------------------------------------------------------------------\u001b[0m",
      "\u001b[0;31mAttributeError\u001b[0m                            Traceback (most recent call last)",
      "\u001b[0;32m<ipython-input-297-3e1f14ea4472>\u001b[0m in \u001b[0;36m<module>\u001b[0;34m()\u001b[0m\n\u001b[0;32m----> 1\u001b[0;31m \u001b[0mmacs\u001b[0m\u001b[0;34m[\u001b[0m\u001b[0;36m1\u001b[0m\u001b[0;34m]\u001b[0m\u001b[0;34m.\u001b[0m\u001b[0mparse_arguments\u001b[0m\u001b[0;34m\u001b[0m\u001b[0m\n\u001b[0m",
      "\u001b[0;31mAttributeError\u001b[0m: 'Macro' object has no attribute 'parse_arguments'"
     ]
    }
   ],
   "source": [
    "macs[1].parse_arguments"
   ]
  },
  {
   "cell_type": "code",
   "execution_count": 168,
   "metadata": {
    "collapsed": false
   },
   "outputs": [
    {
     "data": {
      "text/plain": [
       "('\\\\ppderiv', 2, '\\\\frac{\\\\partial {0}}{\\\\partial {1}}')"
      ]
     },
     "execution_count": 168,
     "metadata": {},
     "output_type": "execute_result"
    }
   ],
   "source": [
    "name, numargs, dat"
   ]
  },
  {
   "cell_type": "code",
   "execution_count": 286,
   "metadata": {
    "collapsed": false
   },
   "outputs": [
    {
     "data": {
      "text/plain": [
       "['\\\\renewcommand*{\\\\sectionautorefname}{Section}\\n',\n",
       " '\\\\newcommand{\\\\pderiv}[1]{\\\\frac{\\\\partial}{\\\\partial #1}}\\n',\n",
       " '\\\\newcommand{\\\\ppderiv}[2]{\\\\frac{\\\\partial #1}{\\\\partial #2}}\\n',\n",
       " '\\\\newcommand{\\\\deriv}[1]{\\\\frac{d}{d #1}}\\n',\n",
       " '\\\\newcommand{\\\\cderiv}[1]{\\\\frac{D}{D #1}}\\n',\n",
       " '\\\\newcommand{\\\\del}{\\\\mathbf{\\\\nabla}}\\n',\n",
       " '\\\\renewcommand{\\\\div}{\\\\del \\\\cdot}\\n',\n",
       " '\\\\newcommand{\\\\avg}[1]{\\\\left\\\\langle #1 \\\\right\\\\rangle}\\n',\n",
       " '\\\\renewcommand{\\\\vec}[1]{\\\\mathbf{#1}}\\n',\n",
       " '\\\\newcommand{\\\\delr}[1]{\\\\frac{1}{r} \\\\pderiv{r} \\\\left( r #1 \\\\right)}\\n',\n",
       " '\\\\newcommand{\\\\delp}[1]{\\\\frac{1}{r} \\\\pderiv{\\\\phi} \\\\left( #1 \\\\right)}\\n',\n",
       " '\\\\newcommand{\\\\fargo}{FARGO3D }\\n']"
      ]
     },
     "execution_count": 286,
     "metadata": {},
     "output_type": "execute_result"
    }
   ],
   "source": [
    "macro_list"
   ]
  },
  {
   "cell_type": "code",
   "execution_count": 28,
   "metadata": {
    "collapsed": false
   },
   "outputs": [],
   "source": [
    "line_list = []\n",
    "for line in lines:\n",
    "    for m in macs:\n",
    "        if m.name in line:\n",
    "            line_list.append(line)\n",
    "            \n",
    "            "
   ]
  },
  {
   "cell_type": "code",
   "execution_count": 34,
   "metadata": {
    "collapsed": false
   },
   "outputs": [
    {
     "data": {
      "text/plain": [
       "'\\\\ppderiv{\\\\vec{v}}{t} + \\\\vec{v} \\\\cdot \\\\del \\\\vec{v} = -\\\\del \\\\Phi + \\\\frac{\\\\del \\\\cdot \\\\vec{\\\\Pi}}{\\\\Sigma},\\n'"
      ]
     },
     "execution_count": 34,
     "metadata": {},
     "output_type": "execute_result"
    }
   ],
   "source": [
    "line_list[0]"
   ]
  },
  {
   "cell_type": "code",
   "execution_count": 45,
   "metadata": {
    "collapsed": false
   },
   "outputs": [],
   "source": [
    "temp = line_list[0].strip().split(macs[2].name)[1]"
   ]
  },
  {
   "cell_type": "code",
   "execution_count": 39,
   "metadata": {
    "collapsed": true
   },
   "outputs": [],
   "source": [
    "import re"
   ]
  },
  {
   "cell_type": "code",
   "execution_count": 81,
   "metadata": {
    "collapsed": false
   },
   "outputs": [
    {
     "name": "stdout",
     "output_type": "stream",
     "text": [
      "['\\\\vec{v}', 't']\n"
     ]
    }
   ],
   "source": [
    "c = 0\n",
    "num = 0\n",
    "istart = 0\n",
    "iend = 0\n",
    "args = []\n",
    "arg_count = 0\n",
    "for i,c in enumerate(temp):\n",
    "    if c  == '{':\n",
    "        if num == 0:\n",
    "            istart = i+1\n",
    "        num += 1\n",
    "    if c == '}':\n",
    "        num -= 1\n",
    "        if num == 0:\n",
    "            iend = i      \n",
    "            args.append(temp[istart:iend])\n",
    "            arg_count += 1\n",
    "            if arg_count == 2:\n",
    "                break\n",
    "print(args)"
   ]
  },
  {
   "cell_type": "code",
   "execution_count": 30,
   "metadata": {
    "collapsed": false
   },
   "outputs": [],
   "source": [
    "macs = [Macro(m) for m in macro_list]\n",
    "res = []\n",
    "for line in line_list:\n",
    "    res.append(replace_line(line,macs))"
   ]
  },
  {
   "cell_type": "code",
   "execution_count": 32,
   "metadata": {
    "collapsed": false
   },
   "outputs": [],
   "source": [
    "with open('results.dat','w') as f:\n",
    "    for i in range(len(line_list)):\n",
    "        f.write('################\\n' + line_list[0] + '\\n-----------------\\n' + res[0] + '\\n################\\n')"
   ]
  },
  {
   "cell_type": "code",
   "execution_count": null,
   "metadata": {
    "collapsed": true
   },
   "outputs": [],
   "source": []
  }
 ],
 "metadata": {
  "kernelspec": {
   "display_name": "Python 3",
   "language": "python",
   "name": "python3"
  },
  "language_info": {
   "codemirror_mode": {
    "name": "ipython",
    "version": 3
   },
   "file_extension": ".py",
   "mimetype": "text/x-python",
   "name": "python",
   "nbconvert_exporter": "python",
   "pygments_lexer": "ipython3",
   "version": "3.5.2"
  }
 },
 "nbformat": 4,
 "nbformat_minor": 0
}
